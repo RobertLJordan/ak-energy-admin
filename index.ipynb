{
 "cells": [
  {
   "cell_type": "markdown",
   "metadata": {},
   "source": [
    "# ak-energy-data Alaska Energy Data Site"
   ]
  },
  {
   "cell_type": "markdown",
   "metadata": {},
   "source": [
    "This site provides a number of different data sets related to Alaskan energy use.  They are primarily useful for creating energy models that require weather data and fuel/utility costs.  Much of the data comes from the [AkWarm Energy Modeling software](http://analysisnorth.com/AkWarm/AkWarm2download.html).\n",
    "\n",
    "You can download this [Jupyter Notebook](http://jupyter.org/) and execute the sample code provided below to experiment with accessing the data.  [Here is the link](http://ak-energy-data.analysisnorth.com/index.ipynb) to download this notebook.  You will need Python 3.6+ installed to execute the code."
   ]
  },
  {
   "cell_type": "code",
   "execution_count": 1,
   "metadata": {},
   "outputs": [],
   "source": [
    "# Execute this cell prior to any of the cells below\n",
    "import io\n",
    "import pandas as pd"
   ]
  }
 ],
 "metadata": {
  "kernelspec": {
   "display_name": "Python 3",
   "language": "python",
   "name": "python3"
  },
  "language_info": {
   "codemirror_mode": {
    "name": "ipython",
    "version": 3
   },
   "file_extension": ".py",
   "mimetype": "text/x-python",
   "name": "python",
   "nbconvert_exporter": "python",
   "pygments_lexer": "ipython3",
   "version": "3.6.4"
  }
 },
 "nbformat": 4,
 "nbformat_minor": 2
}
